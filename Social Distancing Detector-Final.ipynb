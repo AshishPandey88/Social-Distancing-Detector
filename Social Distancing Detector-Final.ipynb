{
 "cells": [
  {
   "cell_type": "markdown",
   "id": "13169594",
   "metadata": {},
   "source": [
    "# Code to loop through the video"
   ]
  },
  {
   "cell_type": "code",
   "execution_count": 1,
   "id": "0cd29ed4",
   "metadata": {},
   "outputs": [],
   "source": [
    "import numpy as np\n",
    "import cv2\n",
    "import matplotlib.pyplot as plt\n",
    "%matplotlib inline"
   ]
  },
  {
   "cell_type": "code",
   "execution_count": null,
   "id": "2fd2826f",
   "metadata": {},
   "outputs": [],
   "source": [
    "##Adding a counter"
   ]
  },
  {
   "cell_type": "code",
   "execution_count": 2,
   "id": "aa7126fd",
   "metadata": {},
   "outputs": [],
   "source": [
    "People_classifier = cv2.CascadeClassifier('haarcascades/haarcascade_fullbody.xml')\n",
    "\n",
    "#We will go ahead and make additions to the above code to make detections\n",
    "cap=cv2.VideoCapture('pedestrian2.mp4')\n",
    "while cap.isOpened():\n",
    "    ret,frame=cap.read()\n",
    "       \n",
    "    gray = cv2.cvtColor(frame, cv2.COLOR_BGR2GRAY)\n",
    "    # Pass frame to our  classifier\n",
    "    people = People_classifier.detectMultiScale(gray, 1.2, 1)\n",
    "    \n",
    "   \n",
    "    \n",
    "    #for (x,y,w,h) in people:\n",
    "    #    cv2.rectangle(frame, (x, y), (x+w, y+h), (0, 255, 255), 2)\n",
    "    Social_distance_threshold=150\n",
    "    \n",
    "    coordinates=[]\n",
    "    for i in range(len(people)):\n",
    "        coordinates.append([people[i][0],people[i][1]])\n",
    "        \n",
    "    dist=[]\n",
    "    for i in people:\n",
    "        for j in people:\n",
    "            dist.append([i,j,((i[1]-j[1])**2 + (i[0]-j[0])**2)**(0.5)])\n",
    "        \n",
    "    for i in range(len(dist)):\n",
    "        if dist[i][2]>0 and dist[i][2]<Social_distance_threshold :\n",
    "            cv2.rectangle(frame, (dist[i][1][0], dist[i][1][1]), \n",
    "                          (dist[i][1][0]+dist[i][1][2], dist[i][1][1]+dist[i][1][3]), (0, 0, 255), 2)\n",
    "            cv2.rectangle(frame, (dist[i][0][0], dist[i][0][1]), \n",
    "                          (dist[i][0][0]+dist[i][0][2], dist[i][0][1]+dist[i][0][3]), (0, 0, 255), 2)\n",
    "        else:\n",
    "            cv2.rectangle(frame, (dist[i][1][0], dist[i][1][1]), \n",
    "                          (dist[i][1][0]+dist[i][1][2], dist[i][1][1]+dist[i][1][3]), (0, 255, 255), 2)\n",
    "\n",
    "        \n",
    "        \n",
    "         #Setup status box\n",
    "    cv2.rectangle(frame, (0,0), (360,120), (0,255,255), -1)\n",
    "    \n",
    "        # People-Detected data\n",
    "    cv2.putText(frame, 'People-Detected', (20,50),\n",
    "                cv2.FONT_HERSHEY_SIMPLEX, 0.5, (0,0,0), 1, cv2.LINE_AA)\n",
    "    cv2.putText(frame, str(len(people)),\n",
    "                (300,60),\n",
    "                cv2.FONT_HERSHEY_SIMPLEX, 1, (0,0,0), 2, cv2.LINE_AA)\n",
    "    \n",
    "    violations=[]\n",
    "    for i in range(len(dist)):\n",
    "        if dist[i][2]<Social_distance_threshold and dist[i][2]>0:\n",
    "            violations.append(dist)\n",
    "            \n",
    "    cv2.putText(frame, 'Social distancing-Violations', (20,100),\n",
    "                cv2.FONT_HERSHEY_SIMPLEX, 0.5, (0,0,255), 1, cv2.LINE_AA)\n",
    "    cv2.putText(frame, str(round(len(violations)**0.5)),(300,100),\n",
    "                cv2.FONT_HERSHEY_SIMPLEX, 1, (0,0,255), 2, cv2.LINE_AA)\n",
    "    \n",
    "    #for i in range(len(dist)):\n",
    "    #        cv2.putText(frame, str(len(dist[dist[i][2]<200])),(300,90),cv2.FONT_HERSHEY_SIMPLEX, 2, (255,255,255), 2, cv2.LINE_AA)\n",
    "    fourcc = cv2.VideoWriter_fourcc(*'XVID')\n",
    "    out = cv2.VideoWriter('Social_distancing.avi', fourcc , 20.0, (640,480))\n",
    "    out.write(frame)\n",
    "    \n",
    "    cv2.imshow('Social distancing', frame)\n",
    "    \n",
    "    \n",
    "    \n",
    "    if cv2.waitKey(10)& 0xFF==ord('q'):\n",
    "        break\n",
    "cap.release()\n",
    "cv2.destroyAllWindows()"
   ]
  }
 ],
 "metadata": {
  "kernelspec": {
   "display_name": "Python 3 (ipykernel)",
   "language": "python",
   "name": "python3"
  },
  "language_info": {
   "codemirror_mode": {
    "name": "ipython",
    "version": 3
   },
   "file_extension": ".py",
   "mimetype": "text/x-python",
   "name": "python",
   "nbconvert_exporter": "python",
   "pygments_lexer": "ipython3",
   "version": "3.9.7"
  }
 },
 "nbformat": 4,
 "nbformat_minor": 5
}
